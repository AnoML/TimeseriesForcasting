{
 "cells": [
  {
   "cell_type": "code",
   "execution_count": 1,
   "metadata": {},
   "outputs": [
    {
     "name": "stderr",
     "output_type": "stream",
     "text": [
      "/home/sudaraka/anaconda3/lib/python3.6/site-packages/h5py/__init__.py:36: FutureWarning: Conversion of the second argument of issubdtype from `float` to `np.floating` is deprecated. In future, it will be treated as `np.float64 == np.dtype(float).type`.\n",
      "  from ._conv import register_converters as _register_converters\n",
      "Using TensorFlow backend.\n"
     ]
    }
   ],
   "source": [
    "from pandas import DataFrame\n",
    "from pandas import read_csv\n",
    "from keras.models import Sequential\n",
    "from keras.layers import LSTM\n",
    "from keras.layers import Dense\n",
    "from matplotlib import pyplot\n",
    "from sklearn.metrics import mean_absolute_error\n",
    "\n",
    "from sklearn.model_selection import GridSearchCV\n",
    "from keras.wrappers.scikit_learn import KerasClassifier\n",
    "\n",
    "from sklearn.preprocessing import StandardScaler"
   ]
  },
  {
   "cell_type": "code",
   "execution_count": 2,
   "metadata": {},
   "outputs": [
    {
     "data": {
      "text/html": [
       "<div>\n",
       "<style scoped>\n",
       "    .dataframe tbody tr th:only-of-type {\n",
       "        vertical-align: middle;\n",
       "    }\n",
       "\n",
       "    .dataframe tbody tr th {\n",
       "        vertical-align: top;\n",
       "    }\n",
       "\n",
       "    .dataframe thead th {\n",
       "        text-align: right;\n",
       "    }\n",
       "</style>\n",
       "<table border=\"1\" class=\"dataframe\">\n",
       "  <thead>\n",
       "    <tr style=\"text-align: right;\">\n",
       "      <th></th>\n",
       "      <th>system.cpu.idle.pct</th>\n",
       "      <th>system.cpu.iowait.pct</th>\n",
       "      <th>system.cpu.softirq.pct</th>\n",
       "      <th>system.cpu.system.pct</th>\n",
       "      <th>system.cpu.total.pct</th>\n",
       "      <th>system.cpu.user.pct</th>\n",
       "      <th>system.diskio_sda.iostat.await</th>\n",
       "      <th>system.diskio_sda.iostat.busy</th>\n",
       "      <th>system.diskio_sda.iostat.queue.avg_size</th>\n",
       "      <th>system.diskio_sda.iostat.read.per_sec.bytes</th>\n",
       "      <th>...</th>\n",
       "      <th>system.load.1</th>\n",
       "      <th>system.load.15</th>\n",
       "      <th>system.load.5</th>\n",
       "      <th>system.load.norm.1</th>\n",
       "      <th>system.load.norm.15</th>\n",
       "      <th>system.load.norm.5</th>\n",
       "      <th>system.memory.actual.used.pct</th>\n",
       "      <th>system.memory.swap.used.pct</th>\n",
       "      <th>system.memory.used.pct</th>\n",
       "      <th>anomaly</th>\n",
       "    </tr>\n",
       "  </thead>\n",
       "  <tbody>\n",
       "    <tr>\n",
       "      <th>0</th>\n",
       "      <td>3.5818</td>\n",
       "      <td>0.0474</td>\n",
       "      <td>0.0312</td>\n",
       "      <td>0.1058</td>\n",
       "      <td>0.4182</td>\n",
       "      <td>0.2338</td>\n",
       "      <td>0.698</td>\n",
       "      <td>12.601</td>\n",
       "      <td>0.165</td>\n",
       "      <td>0.0</td>\n",
       "      <td>...</td>\n",
       "      <td>0.68</td>\n",
       "      <td>0.97</td>\n",
       "      <td>1.00</td>\n",
       "      <td>0.170</td>\n",
       "      <td>0.243</td>\n",
       "      <td>0.250</td>\n",
       "      <td>0.6904</td>\n",
       "      <td>0.0</td>\n",
       "      <td>0.9620</td>\n",
       "      <td>0</td>\n",
       "    </tr>\n",
       "    <tr>\n",
       "      <th>1</th>\n",
       "      <td>3.5080</td>\n",
       "      <td>0.0934</td>\n",
       "      <td>0.0271</td>\n",
       "      <td>0.1054</td>\n",
       "      <td>0.4920</td>\n",
       "      <td>0.2661</td>\n",
       "      <td>0.572</td>\n",
       "      <td>11.104</td>\n",
       "      <td>0.137</td>\n",
       "      <td>0.0</td>\n",
       "      <td>...</td>\n",
       "      <td>0.58</td>\n",
       "      <td>0.96</td>\n",
       "      <td>0.97</td>\n",
       "      <td>0.145</td>\n",
       "      <td>0.240</td>\n",
       "      <td>0.243</td>\n",
       "      <td>0.6903</td>\n",
       "      <td>0.0</td>\n",
       "      <td>0.9626</td>\n",
       "      <td>0</td>\n",
       "    </tr>\n",
       "    <tr>\n",
       "      <th>2</th>\n",
       "      <td>3.5337</td>\n",
       "      <td>0.1136</td>\n",
       "      <td>0.0291</td>\n",
       "      <td>0.1025</td>\n",
       "      <td>0.4663</td>\n",
       "      <td>0.2211</td>\n",
       "      <td>0.572</td>\n",
       "      <td>11.104</td>\n",
       "      <td>0.137</td>\n",
       "      <td>0.0</td>\n",
       "      <td>...</td>\n",
       "      <td>0.65</td>\n",
       "      <td>0.96</td>\n",
       "      <td>0.97</td>\n",
       "      <td>0.163</td>\n",
       "      <td>0.240</td>\n",
       "      <td>0.243</td>\n",
       "      <td>0.6904</td>\n",
       "      <td>0.0</td>\n",
       "      <td>0.9628</td>\n",
       "      <td>0</td>\n",
       "    </tr>\n",
       "    <tr>\n",
       "      <th>3</th>\n",
       "      <td>3.5742</td>\n",
       "      <td>0.0503</td>\n",
       "      <td>0.0201</td>\n",
       "      <td>0.0916</td>\n",
       "      <td>0.4258</td>\n",
       "      <td>0.2637</td>\n",
       "      <td>0.572</td>\n",
       "      <td>11.104</td>\n",
       "      <td>0.137</td>\n",
       "      <td>0.0</td>\n",
       "      <td>...</td>\n",
       "      <td>0.68</td>\n",
       "      <td>0.95</td>\n",
       "      <td>0.95</td>\n",
       "      <td>0.170</td>\n",
       "      <td>0.238</td>\n",
       "      <td>0.238</td>\n",
       "      <td>0.6903</td>\n",
       "      <td>0.0</td>\n",
       "      <td>0.9635</td>\n",
       "      <td>0</td>\n",
       "    </tr>\n",
       "    <tr>\n",
       "      <th>4</th>\n",
       "      <td>3.5454</td>\n",
       "      <td>0.0705</td>\n",
       "      <td>0.0268</td>\n",
       "      <td>0.1051</td>\n",
       "      <td>0.4546</td>\n",
       "      <td>0.2522</td>\n",
       "      <td>0.572</td>\n",
       "      <td>11.104</td>\n",
       "      <td>0.137</td>\n",
       "      <td>0.0</td>\n",
       "      <td>...</td>\n",
       "      <td>0.68</td>\n",
       "      <td>0.95</td>\n",
       "      <td>0.95</td>\n",
       "      <td>0.170</td>\n",
       "      <td>0.238</td>\n",
       "      <td>0.238</td>\n",
       "      <td>0.6905</td>\n",
       "      <td>0.0</td>\n",
       "      <td>0.9638</td>\n",
       "      <td>0</td>\n",
       "    </tr>\n",
       "  </tbody>\n",
       "</table>\n",
       "<p>5 rows × 44 columns</p>\n",
       "</div>"
      ],
      "text/plain": [
       "   system.cpu.idle.pct  system.cpu.iowait.pct  system.cpu.softirq.pct  \\\n",
       "0               3.5818                 0.0474                  0.0312   \n",
       "1               3.5080                 0.0934                  0.0271   \n",
       "2               3.5337                 0.1136                  0.0291   \n",
       "3               3.5742                 0.0503                  0.0201   \n",
       "4               3.5454                 0.0705                  0.0268   \n",
       "\n",
       "   system.cpu.system.pct  system.cpu.total.pct  system.cpu.user.pct  \\\n",
       "0                 0.1058                0.4182               0.2338   \n",
       "1                 0.1054                0.4920               0.2661   \n",
       "2                 0.1025                0.4663               0.2211   \n",
       "3                 0.0916                0.4258               0.2637   \n",
       "4                 0.1051                0.4546               0.2522   \n",
       "\n",
       "   system.diskio_sda.iostat.await  system.diskio_sda.iostat.busy  \\\n",
       "0                           0.698                         12.601   \n",
       "1                           0.572                         11.104   \n",
       "2                           0.572                         11.104   \n",
       "3                           0.572                         11.104   \n",
       "4                           0.572                         11.104   \n",
       "\n",
       "   system.diskio_sda.iostat.queue.avg_size  \\\n",
       "0                                    0.165   \n",
       "1                                    0.137   \n",
       "2                                    0.137   \n",
       "3                                    0.137   \n",
       "4                                    0.137   \n",
       "\n",
       "   system.diskio_sda.iostat.read.per_sec.bytes   ...     system.load.1  \\\n",
       "0                                          0.0   ...              0.68   \n",
       "1                                          0.0   ...              0.58   \n",
       "2                                          0.0   ...              0.65   \n",
       "3                                          0.0   ...              0.68   \n",
       "4                                          0.0   ...              0.68   \n",
       "\n",
       "   system.load.15  system.load.5  system.load.norm.1  system.load.norm.15  \\\n",
       "0            0.97           1.00               0.170                0.243   \n",
       "1            0.96           0.97               0.145                0.240   \n",
       "2            0.96           0.97               0.163                0.240   \n",
       "3            0.95           0.95               0.170                0.238   \n",
       "4            0.95           0.95               0.170                0.238   \n",
       "\n",
       "   system.load.norm.5  system.memory.actual.used.pct  \\\n",
       "0               0.250                         0.6904   \n",
       "1               0.243                         0.6903   \n",
       "2               0.243                         0.6904   \n",
       "3               0.238                         0.6903   \n",
       "4               0.238                         0.6905   \n",
       "\n",
       "   system.memory.swap.used.pct  system.memory.used.pct  anomaly  \n",
       "0                          0.0                  0.9620        0  \n",
       "1                          0.0                  0.9626        0  \n",
       "2                          0.0                  0.9628        0  \n",
       "3                          0.0                  0.9635        0  \n",
       "4                          0.0                  0.9638        0  \n",
       "\n",
       "[5 rows x 44 columns]"
      ]
     },
     "execution_count": 2,
     "metadata": {},
     "output_type": "execute_result"
    }
   ],
   "source": [
    "dataset = read_csv('with_timestamp.csv', header=0, index_col=0)\n",
    "dataset.drop(\"@timestamp\", axis=1, inplace=True)\n",
    "dataset.head()"
   ]
  },
  {
   "cell_type": "markdown",
   "metadata": {},
   "source": [
    "## Normalizing Data"
   ]
  },
  {
   "cell_type": "code",
   "execution_count": 3,
   "metadata": {},
   "outputs": [],
   "source": [
    "dataset[dataset.columns] = StandardScaler().fit_transform(dataset)"
   ]
  },
  {
   "cell_type": "markdown",
   "metadata": {},
   "source": [
    "## Shifting the dataset\n",
    "shifting only one minute"
   ]
  },
  {
   "cell_type": "code",
   "execution_count": 4,
   "metadata": {},
   "outputs": [],
   "source": [
    "dataset_shifted = dataset.shift(-1)\n",
    "dataset = dataset.iloc[:-1]\n",
    "dataset_shifted = dataset_shifted.iloc[:-1]"
   ]
  },
  {
   "cell_type": "markdown",
   "metadata": {},
   "source": [
    "## Spliting the dataset \n",
    "Ratio - 80 : 20"
   ]
  },
  {
   "cell_type": "code",
   "execution_count": 10,
   "metadata": {},
   "outputs": [],
   "source": [
    "train = dataset.shape[0] * 2 // 10\n",
    "    \n",
    "train_dataset = dataset.iloc[:-train]\n",
    "train_dataset_shifted = dataset_shifted.iloc[:-train]\n",
    "\n",
    "test_dataset = dataset.iloc[-train:]\n",
    "test_dataset_shifted = dataset_shifted.iloc[-train:]"
   ]
  },
  {
   "cell_type": "code",
   "execution_count": 11,
   "metadata": {},
   "outputs": [
    {
     "name": "stdout",
     "output_type": "stream",
     "text": [
      "(40000, 44)\n"
     ]
    }
   ],
   "source": [
    "train_dataset = train_dataset.values.reshape((train_dataset.shape[0], 1, train_dataset.shape[1]))\n",
    "print(train_dataset_shifted.shape)"
   ]
  },
  {
   "cell_type": "markdown",
   "metadata": {},
   "source": [
    "## Exhautive search for optimal parameters"
   ]
  },
  {
   "cell_type": "code",
   "execution_count": 16,
   "metadata": {},
   "outputs": [],
   "source": [
    "def fit_lstm_tuning(n_test = 28, n_lag = 1, n_batch = 1, n_neurons = 1, activation = 'sigmoid', optimizer = 'adam'):\n",
    "    model_lstm = Sequential()\n",
    "    model_lstm.add(LSTM(n_neurons, input_shape=(n_batch, dataset.shape[1]),activation = activation))\n",
    "    model_lstm.add(Dense(44))\n",
    "    model_lstm.compile(loss='mae', optimizer=optimizer)\n",
    "    return model_lstm\n",
    "\n",
    "n_lag = [1]\n",
    "n_seq = [1]\n",
    "n_batch = [1]\n",
    "n_neurons = [1,2,3]\n",
    "activation = ['softmax', 'relu', 'tanh', 'sigmoid']\n",
    "optimizer = ['SGD', 'RMSprop','Adam']\n",
    "\n",
    "X = train_dataset\n",
    "Y = train_dataset_shifted"
   ]
  },
  {
   "cell_type": "markdown",
   "metadata": {},
   "source": [
    "## Create model"
   ]
  },
  {
   "cell_type": "code",
   "execution_count": null,
   "metadata": {},
   "outputs": [],
   "source": [
    "model = KerasClassifier(build_fn=fit_lstm_tuning, epochs = 1500, batch_size = 1, verbose=0)\n",
    "\n",
    "param_grid = dict(n_batch = n_batch, n_neurons = n_neurons)\n",
    "grid = GridSearchCV(estimator=model, param_grid=param_grid, n_jobs=1)\n",
    "grid_result = grid.fit(X,Y)"
   ]
  },
  {
   "cell_type": "markdown",
   "metadata": {},
   "source": [
    "## Summarize results"
   ]
  },
  {
   "cell_type": "code",
   "execution_count": null,
   "metadata": {},
   "outputs": [],
   "source": [
    "print(\"Best: %f using %s\" % (grid_result.best_score_, grid_result.best_params_))\n",
    "means = grid_result.cv_results_['mean_test_score']\n",
    "stds = grid_result.cv_results_['std_test_score']\n",
    "params = grid_result.cv_results_['params']\n",
    "for mean, stdev, param in zip(means, stds, params):\n",
    "    print(\"%f (%f) with: %r\" % (mean, stdev, param))"
   ]
  }
 ],
 "metadata": {
  "kernelspec": {
   "display_name": "Python 3",
   "language": "python",
   "name": "python3"
  },
  "language_info": {
   "codemirror_mode": {
    "name": "ipython",
    "version": 3
   },
   "file_extension": ".py",
   "mimetype": "text/x-python",
   "name": "python",
   "nbconvert_exporter": "python",
   "pygments_lexer": "ipython3",
   "version": "3.6.4"
  }
 },
 "nbformat": 4,
 "nbformat_minor": 2
}
